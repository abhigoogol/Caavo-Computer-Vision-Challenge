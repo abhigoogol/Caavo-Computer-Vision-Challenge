{
  "nbformat": 4,
  "nbformat_minor": 0,
  "metadata": {
    "colab": {
      "name": "Caavo-Computer-Vision-Challenge.ipynb",
      "version": "0.3.2",
      "provenance": [],
      "collapsed_sections": []
    },
    "kernelspec": {
      "name": "python3",
      "display_name": "Python 3"
    },
    "accelerator": "GPU"
  },
  "cells": [
    {
      "cell_type": "markdown",
      "metadata": {
        "id": "view-in-github",
        "colab_type": "text"
      },
      "source": [
        "[View in Colaboratory](https://colab.research.google.com/github/abhigoogol/Caavo-Computer-Vision-Challenge/blob/master/Caavo_Computer_Vision_Challenge.ipynb)"
      ]
    },
    {
      "metadata": {
        "id": "w9Ofx3uH1BdG",
        "colab_type": "code",
        "colab": {
          "base_uri": "https://localhost:8080/",
          "height": 2188
        },
        "outputId": "5ddb7db9-6f09-4df6-e12f-e0ef2e601e72"
      },
      "cell_type": "code",
      "source": [
        "#@title Default title text\n",
        "!pip install http://download.pytorch.org/whl/cu75/torch-0.3.0.post4-cp36-cp36m-linux_x86_64.whl \n",
        "!pip install torchvision\n",
        "!pip install fastai\n",
        "!apt update && apt install -y libsm6 libxext6"
      ],
      "execution_count": 0,
      "outputs": [
        {
          "output_type": "stream",
          "text": [
            "Requirement already satisfied: torch==0.3.0.post4 from http://download.pytorch.org/whl/cu75/torch-0.3.0.post4-cp36-cp36m-linux_x86_64.whl in /usr/local/lib/python3.6/dist-packages\r\n",
            "Requirement already satisfied: numpy in /usr/local/lib/python3.6/dist-packages (from torch==0.3.0.post4)\r\n",
            "Requirement already satisfied: pyyaml in /usr/local/lib/python3.6/dist-packages (from torch==0.3.0.post4)\n",
            "\u001b[33mYou are using pip version 9.0.3, however version 10.0.1 is available.\n",
            "You should consider upgrading via the 'pip install --upgrade pip' command.\u001b[0m\n",
            "Requirement already satisfied: torchvision in /usr/local/lib/python3.6/dist-packages\n",
            "Requirement already satisfied: six in /usr/local/lib/python3.6/dist-packages (from torchvision)\n",
            "Requirement already satisfied: numpy in /usr/local/lib/python3.6/dist-packages (from torchvision)\n",
            "Requirement already satisfied: torch in /usr/local/lib/python3.6/dist-packages (from torchvision)\n",
            "Requirement already satisfied: pillow>=4.1.1 in /usr/local/lib/python3.6/dist-packages (from torchvision)\n",
            "Requirement already satisfied: pyyaml in /usr/local/lib/python3.6/dist-packages (from torch->torchvision)\n",
            "\u001b[33mYou are using pip version 9.0.3, however version 10.0.1 is available.\n",
            "You should consider upgrading via the 'pip install --upgrade pip' command.\u001b[0m\n",
            "Requirement already satisfied: fastai in /usr/local/lib/python3.6/dist-packages\n",
            "Requirement already satisfied: ptyprocess in /usr/local/lib/python3.6/dist-packages (from fastai)\n",
            "Requirement already satisfied: bcolz in /usr/local/lib/python3.6/dist-packages (from fastai)\n",
            "Requirement already satisfied: ipywidgets in /usr/local/lib/python3.6/dist-packages (from fastai)\n",
            "Requirement already satisfied: tornado in /usr/local/lib/python3.6/dist-packages (from fastai)\n",
            "Requirement already satisfied: numpy in /usr/local/lib/python3.6/dist-packages (from fastai)\n",
            "Requirement already satisfied: graphviz in /usr/local/lib/python3.6/dist-packages (from fastai)\n",
            "Requirement already satisfied: pandocfilters in /usr/local/lib/python3.6/dist-packages (from fastai)\n",
            "Requirement already satisfied: jupyter-core in /usr/local/lib/python3.6/dist-packages (from fastai)\n",
            "Requirement already satisfied: simplegeneric in /usr/local/lib/python3.6/dist-packages (from fastai)\n",
            "Requirement already satisfied: pytz in /usr/local/lib/python3.6/dist-packages (from fastai)\n",
            "Requirement already satisfied: widgetsnbextension in /usr/local/lib/python3.6/dist-packages (from fastai)\n",
            "Requirement already satisfied: qtconsole in /usr/local/lib/python3.6/dist-packages (from fastai)\n",
            "Requirement already satisfied: awscli in /usr/local/lib/python3.6/dist-packages (from fastai)\n",
            "Requirement already satisfied: Jinja2 in /usr/local/lib/python3.6/dist-packages (from fastai)\n",
            "Requirement already satisfied: jupyter-contrib-nbextensions in /usr/local/lib/python3.6/dist-packages (from fastai)\n",
            "Requirement already satisfied: jedi in /usr/local/lib/python3.6/dist-packages (from fastai)\n",
            "Requirement already satisfied: webencodings in /usr/local/lib/python3.6/dist-packages (from fastai)\n",
            "Requirement already satisfied: jupyter-client in /usr/local/lib/python3.6/dist-packages (from fastai)\n",
            "Requirement already satisfied: ipykernel in /usr/local/lib/python3.6/dist-packages (from fastai)\n",
            "Requirement already satisfied: pandas in /usr/local/lib/python3.6/dist-packages (from fastai)\n",
            "Requirement already satisfied: kaggle-cli in /usr/local/lib/python3.6/dist-packages (from fastai)\n",
            "Requirement already satisfied: wcwidth in /usr/local/lib/python3.6/dist-packages (from fastai)\n",
            "Requirement already satisfied: MarkupSafe in /usr/local/lib/python3.6/dist-packages (from fastai)\n",
            "Requirement already satisfied: pandas-summary in /usr/local/lib/python3.6/dist-packages (from fastai)\n",
            "Requirement already satisfied: Pygments in /usr/local/lib/python3.6/dist-packages (from fastai)\n",
            "Requirement already satisfied: opencv-python in /usr/local/lib/python3.6/dist-packages (from fastai)\n",
            "Requirement already satisfied: notebook in /usr/local/lib/python3.6/dist-packages (from fastai)\n",
            "Requirement already satisfied: PyYAML in /usr/local/lib/python3.6/dist-packages (from fastai)\n",
            "Requirement already satisfied: olefile in /usr/local/lib/python3.6/dist-packages (from fastai)\n",
            "Requirement already satisfied: pickleshare in /usr/local/lib/python3.6/dist-packages (from fastai)\n",
            "Requirement already satisfied: nbconvert in /usr/local/lib/python3.6/dist-packages (from fastai)\n",
            "Requirement already satisfied: six in /usr/local/lib/python3.6/dist-packages (from fastai)\n",
            "Requirement already satisfied: prompt-toolkit in /usr/local/lib/python3.6/dist-packages (from fastai)\n",
            "Requirement already satisfied: html5lib in /usr/local/lib/python3.6/dist-packages (from fastai)\n",
            "Requirement already satisfied: sklearn-pandas in /usr/local/lib/python3.6/dist-packages (from fastai)\n",
            "Requirement already satisfied: ipython-genutils in /usr/local/lib/python3.6/dist-packages (from fastai)\n",
            "Requirement already satisfied: scipy in /usr/local/lib/python3.6/dist-packages (from fastai)\n",
            "Requirement already satisfied: certifi in /usr/local/lib/python3.6/dist-packages (from fastai)\n",
            "Requirement already satisfied: plotnine in /usr/local/lib/python3.6/dist-packages (from fastai)\n",
            "Requirement already satisfied: traitlets in /usr/local/lib/python3.6/dist-packages (from fastai)\n",
            "Requirement already satisfied: seaborn in /usr/local/lib/python3.6/dist-packages (from fastai)\n",
            "Requirement already satisfied: entrypoints in /usr/local/lib/python3.6/dist-packages (from fastai)\n",
            "Requirement already satisfied: jupyter-console in /usr/local/lib/python3.6/dist-packages (from fastai)\n",
            "Requirement already satisfied: matplotlib in /usr/local/lib/python3.6/dist-packages (from fastai)\n",
            "Requirement already satisfied: mistune in /usr/local/lib/python3.6/dist-packages (from fastai)\n",
            "Requirement already satisfied: jupyter in /usr/local/lib/python3.6/dist-packages (from fastai)\n",
            "Requirement already satisfied: bleach in /usr/local/lib/python3.6/dist-packages (from fastai)\n",
            "Requirement already satisfied: feather-format in /usr/local/lib/python3.6/dist-packages (from fastai)\n",
            "Requirement already satisfied: tqdm in /usr/local/lib/python3.6/dist-packages (from fastai)\n",
            "Requirement already satisfied: isoweek in /usr/local/lib/python3.6/dist-packages (from fastai)\n",
            "Requirement already satisfied: jsonschema in /usr/local/lib/python3.6/dist-packages (from fastai)\n",
            "Requirement already satisfied: cycler in /usr/local/lib/python3.6/dist-packages (from fastai)\n",
            "Requirement already satisfied: python-dateutil in /usr/local/lib/python3.6/dist-packages (from fastai)\n",
            "Requirement already satisfied: decorator in /usr/local/lib/python3.6/dist-packages (from fastai)\n",
            "Requirement already satisfied: pexpect in /usr/local/lib/python3.6/dist-packages (from fastai)\n",
            "Requirement already satisfied: pyparsing in /usr/local/lib/python3.6/dist-packages (from fastai)\n",
            "Requirement already satisfied: Pillow in /usr/local/lib/python3.6/dist-packages (from fastai)\n",
            "Requirement already satisfied: pyzmq in /usr/local/lib/python3.6/dist-packages (from fastai)\n",
            "Requirement already satisfied: torchtext in /usr/local/lib/python3.6/dist-packages (from fastai)\n",
            "Requirement already satisfied: ipython in /usr/local/lib/python3.6/dist-packages (from fastai)\n",
            "Requirement already satisfied: testpath in /usr/local/lib/python3.6/dist-packages (from fastai)\n",
            "Requirement already satisfied: nbformat in /usr/local/lib/python3.6/dist-packages (from fastai)\n",
            "Requirement already satisfied: terminado in /usr/local/lib/python3.6/dist-packages (from fastai)\n",
            "Requirement already satisfied: botocore==1.10.5 in /usr/local/lib/python3.6/dist-packages (from awscli->fastai)\n",
            "Requirement already satisfied: rsa<=3.5.0,>=3.1.2 in /usr/local/lib/python3.6/dist-packages (from awscli->fastai)\n",
            "Requirement already satisfied: s3transfer<0.2.0,>=0.1.12 in /usr/local/lib/python3.6/dist-packages (from awscli->fastai)\n",
            "Requirement already satisfied: colorama<=0.3.7,>=0.2.5 in /usr/local/lib/python3.6/dist-packages (from awscli->fastai)\n",
            "Requirement already satisfied: docutils>=0.10 in /usr/local/lib/python3.6/dist-packages (from awscli->fastai)\n",
            "Requirement already satisfied: jupyter-highlight-selected-word>=0.1.1 in /usr/local/lib/python3.6/dist-packages (from jupyter-contrib-nbextensions->fastai)\n",
            "Requirement already satisfied: lxml in /usr/local/lib/python3.6/dist-packages (from jupyter-contrib-nbextensions->fastai)\n",
            "Requirement already satisfied: jupyter-contrib-core>=0.3.3 in /usr/local/lib/python3.6/dist-packages (from jupyter-contrib-nbextensions->fastai)\n",
            "Requirement already satisfied: jupyter-nbextensions-configurator>=0.4.0 in /usr/local/lib/python3.6/dist-packages (from jupyter-contrib-nbextensions->fastai)\n",
            "Requirement already satisfied: jupyter-latex-envs>=1.3.8 in /usr/local/lib/python3.6/dist-packages (from jupyter-contrib-nbextensions->fastai)\n",
            "Requirement already satisfied: parso>=0.2.0 in /usr/local/lib/python3.6/dist-packages (from jedi->fastai)\n",
            "Requirement already satisfied: configparser in /usr/local/lib/python3.6/dist-packages (from kaggle-cli->fastai)\n",
            "Requirement already satisfied: cliff<2.9,>=2.8.0 in /usr/local/lib/python3.6/dist-packages (from kaggle-cli->fastai)\n",
            "Requirement already satisfied: progressbar2<3.35,>=3.34.3 in /usr/local/lib/python3.6/dist-packages (from kaggle-cli->fastai)\n",
            "Requirement already satisfied: beautifulsoup4<4.7,>=4.6.0 in /usr/local/lib/python3.6/dist-packages (from kaggle-cli->fastai)\n",
            "Requirement already satisfied: MechanicalSoup<0.9,>=0.7.0 in /usr/local/lib/python3.6/dist-packages (from kaggle-cli->fastai)\n",
            "Requirement already satisfied: cssselect<1.1,>=1.0.1 in /usr/local/lib/python3.6/dist-packages (from kaggle-cli->fastai)\n",
            "Requirement already satisfied: scikit-learn>=0.15.0 in /usr/local/lib/python3.6/dist-packages (from sklearn-pandas->fastai)\n",
            "Requirement already satisfied: patsy>=0.4.1 in /usr/local/lib/python3.6/dist-packages (from plotnine->fastai)\n",
            "Requirement already satisfied: statsmodels>=0.8.0 in /usr/local/lib/python3.6/dist-packages (from plotnine->fastai)\n",
            "Requirement already satisfied: mizani>=0.4.1 in /usr/local/lib/python3.6/dist-packages (from plotnine->fastai)\n",
            "Requirement already satisfied: pyarrow>=0.4.0 in /usr/local/lib/python3.6/dist-packages (from feather-format->fastai)\n",
            "Requirement already satisfied: requests in /usr/local/lib/python3.6/dist-packages (from torchtext->fastai)\n",
            "Requirement already satisfied: setuptools>=18.5 in /usr/local/lib/python3.6/dist-packages (from ipython->fastai)\n"
          ],
          "name": "stdout"
        },
        {
          "output_type": "stream",
          "text": [
            "Requirement already satisfied: jmespath<1.0.0,>=0.7.1 in /usr/local/lib/python3.6/dist-packages (from botocore==1.10.5->awscli->fastai)\r\n",
            "Requirement already satisfied: pyasn1>=0.1.3 in /usr/local/lib/python3.6/dist-packages (from rsa<=3.5.0,>=3.1.2->awscli->fastai)\r\n",
            "Requirement already satisfied: pbr!=2.1.0,>=2.0.0 in /usr/local/lib/python3.6/dist-packages (from cliff<2.9,>=2.8.0->kaggle-cli->fastai)\r\n",
            "Requirement already satisfied: stevedore>=1.20.0 in /usr/local/lib/python3.6/dist-packages (from cliff<2.9,>=2.8.0->kaggle-cli->fastai)\r\n",
            "Requirement already satisfied: PrettyTable<0.8,>=0.7.1 in /usr/local/lib/python3.6/dist-packages (from cliff<2.9,>=2.8.0->kaggle-cli->fastai)\r\n",
            "Requirement already satisfied: cmd2>=0.6.7 in /usr/local/lib/python3.6/dist-packages (from cliff<2.9,>=2.8.0->kaggle-cli->fastai)\r\n",
            "Requirement already satisfied: python-utils>=2.1.0 in /usr/local/lib/python3.6/dist-packages (from progressbar2<3.35,>=3.34.3->kaggle-cli->fastai)\r\n",
            "Requirement already satisfied: palettable in /usr/local/lib/python3.6/dist-packages (from mizani>=0.4.1->plotnine->fastai)\r\n",
            "Requirement already satisfied: chardet<3.1.0,>=3.0.2 in /usr/local/lib/python3.6/dist-packages (from requests->torchtext->fastai)\r\n",
            "Requirement already satisfied: idna<2.7,>=2.5 in /usr/local/lib/python3.6/dist-packages (from requests->torchtext->fastai)\r\n",
            "Requirement already satisfied: urllib3<1.23,>=1.21.1 in /usr/local/lib/python3.6/dist-packages (from requests->torchtext->fastai)\n",
            "Requirement already satisfied: pyperclip in /usr/local/lib/python3.6/dist-packages (from cmd2>=0.6.7->cliff<2.9,>=2.8.0->kaggle-cli->fastai)\n",
            "\u001b[33mYou are using pip version 9.0.3, however version 10.0.1 is available.\n",
            "You should consider upgrading via the 'pip install --upgrade pip' command.\u001b[0m\n",
            "Hit:1 http://security.ubuntu.com/ubuntu artful-security InRelease\n",
            "Hit:2 http://archive.ubuntu.com/ubuntu artful InRelease\n",
            "Hit:3 http://archive.ubuntu.com/ubuntu artful-updates InRelease\n",
            "Hit:4 http://archive.ubuntu.com/ubuntu artful-backports InRelease\n",
            "Reading package lists... Done\n",
            "Building dependency tree       \n",
            "Reading state information... Done\n",
            "12 packages can be upgraded. Run 'apt list --upgradable' to see them.\n",
            "Reading package lists... Done\n",
            "Building dependency tree       \n",
            "Reading state information... Done\n",
            "libsm6 is already the newest version (2:1.2.2-1).\n",
            "libxext6 is already the newest version (2:1.3.3-1).\n",
            "0 upgraded, 0 newly installed, 0 to remove and 12 not upgraded.\n"
          ],
          "name": "stdout"
        }
      ]
    },
    {
      "metadata": {
        "id": "6z8p4TnR4_EV",
        "colab_type": "code",
        "colab": {
          "base_uri": "https://localhost:8080/",
          "height": 184
        },
        "outputId": "e29aeb5c-851e-452c-8bb6-5edf06b99446"
      },
      "cell_type": "code",
      "source": [
        "!curl -O http://files.fast.ai/models/weights.tgz\n",
        "!tar zxvf weights.tgz\n",
        "!cp -r weights /usr/local/lib/python3.6/dist-packages/fastai/"
      ],
      "execution_count": 0,
      "outputs": [
        {
          "output_type": "stream",
          "text": [
            "  % Total    % Received % Xferd  Average Speed   Time    Time     Time  Current\r\n",
            "                                 Dload  Upload   Total   Spent    Left  Speed\n",
            "100 1140M  100 1140M    0     0  16.7M      0  0:01:08  0:01:08 --:--:-- 19.0M\n",
            "weights/\n",
            "weights/wrn_50_2f.pth\n",
            "weights/resnext_101_32x4d.pth\n",
            "weights/resnext_101_64x4d.pth\n",
            "weights/inceptionresnetv2-d579a627.pth\n",
            "weights/inceptionv4-97ef9c30.pth\n",
            "weights/resnext_50_32x4d.pth\n"
          ],
          "name": "stdout"
        }
      ]
    },
    {
      "metadata": {
        "id": "kbIYR6FWqkp7",
        "colab_type": "code",
        "colab": {
          "base_uri": "https://localhost:8080/",
          "height": 200
        },
        "outputId": "a36bec3e-7af6-42c7-a9de-41809367aa44"
      },
      "cell_type": "code",
      "source": [
        "!wget https://s3-ap-southeast-1.amazonaws.com/he-public-data/dataset52bd6ce.zip"
      ],
      "execution_count": 0,
      "outputs": [
        {
          "output_type": "stream",
          "text": [
            "--2018-04-20 15:58:17--  https://s3-ap-southeast-1.amazonaws.com/he-public-data/dataset52bd6ce.zip\n",
            "Resolving s3-ap-southeast-1.amazonaws.com (s3-ap-southeast-1.amazonaws.com)... 52.219.32.41\n",
            "Connecting to s3-ap-southeast-1.amazonaws.com (s3-ap-southeast-1.amazonaws.com)|52.219.32.41|:443... connected.\n",
            "HTTP request sent, awaiting response... 200 OK\n",
            "Length: 646261977 (616M) [binary/octet-stream]\n",
            "Saving to: ‘dataset52bd6ce.zip.1’\n",
            "\n",
            "dataset52bd6ce.zip.  15%[==>                 ]  92.76M  9.70MB/s    eta 4m 14s "
          ],
          "name": "stdout"
        },
        {
          "output_type": "stream",
          "text": [
            "dataset52bd6ce.zip. 100%[===================>] 616.32M  13.0MB/s    in 86s     \n",
            "\n",
            "2018-04-20 15:59:43 (7.18 MB/s) - ‘dataset52bd6ce.zip.1’ saved [646261977/646261977]\n",
            "\n"
          ],
          "name": "stdout"
        }
      ]
    },
    {
      "metadata": {
        "id": "c9Utuz3CqyTy",
        "colab_type": "code",
        "colab": {}
      },
      "cell_type": "code",
      "source": [
        "#!rm -rf dataset/"
      ],
      "execution_count": 0,
      "outputs": []
    },
    {
      "metadata": {
        "id": "UEppOArh1M-x",
        "colab_type": "code",
        "colab": {
          "base_uri": "https://localhost:8080/",
          "height": 51
        },
        "outputId": "97c1d4d3-96c3-4987-f62e-76fe2eab960d"
      },
      "cell_type": "code",
      "source": [
        "!unzip dataset52bd6ce.zip"
      ],
      "execution_count": 0,
      "outputs": [
        {
          "output_type": "stream",
          "text": [
            "Archive:  dataset52bd6ce.zip\n",
            "replace dataset/sample_submissioin.csv? [y]es, [n]o, [A]ll, [N]one, [r]ename: ^C\n"
          ],
          "name": "stdout"
        }
      ]
    },
    {
      "metadata": {
        "id": "yBYceUoW40fn",
        "colab_type": "code",
        "colab": {
          "base_uri": "https://localhost:8080/",
          "height": 318
        },
        "outputId": "f67f422e-5d2b-42db-ce36-2acb0986a9ab"
      },
      "cell_type": "code",
      "source": [
        "!ls -la"
      ],
      "execution_count": 0,
      "outputs": [
        {
          "output_type": "stream",
          "text": [
            "total 2429704\r\n",
            "drwxr-xr-x 1 root root       4096 Apr 20 15:58 .\r\n",
            "drwxr-xr-x 1 root root       4096 Apr 20 15:14 ..\r\n",
            "drwx------ 4 root root       4096 Apr 20 15:20 .cache\r\n",
            "drwxr-xr-x 3 root root       4096 Apr 20 15:20 .config\r\n",
            "drwxr-xr-x 1 root root       4096 Apr 11 21:57 datalab\r\n",
            "drwxrwxr-x 7 root root       4096 Apr 20 15:31 dataset\r\n",
            "-rw-r--r-- 1 root root  646261977 Apr 14 07:27 dataset52bd6ce.zip\r\n",
            "-rw-r--r-- 1 root root  646261977 Apr 14 07:27 dataset52bd6ce.zip.1\r\n",
            "drwxr-xr-x 4 root root       4096 Apr 20 15:15 .forever\r\n",
            "drwxr-xr-x 5 root root       4096 Apr 20 15:20 .ipython\r\n",
            "drwxr-xr-x 2 root root       4096 Apr 20 15:34 .jupyter\r\n",
            "drwx------ 3 root root       4096 Apr 20 15:15 .local\r\n",
            "drwx------ 3 root root       4096 Apr 20 15:31 .nv\r\n",
            "-rw------- 1 root root       1024 Apr 20 15:15 .rnd\r\n",
            "drwxr-xr-x 3 root root       4096 Apr 20 15:31 .torch\r\n",
            "drwxrwxr-x 2 1001 1001       4096 Nov  4 13:00 weights\r\n",
            "-rw-r--r-- 1 root root 1195411318 Apr 20 15:57 weights.tgz\r\n"
          ],
          "name": "stdout"
        }
      ]
    },
    {
      "metadata": {
        "id": "Q6qCHgk37W18",
        "colab_type": "code",
        "colab": {}
      },
      "cell_type": "code",
      "source": [
        "import os\n",
        "import random\n",
        "import math\n",
        "import shutil"
      ],
      "execution_count": 0,
      "outputs": []
    },
    {
      "metadata": {
        "id": "ugc_5nhw7YA4",
        "colab_type": "code",
        "colab": {
          "base_uri": "https://localhost:8080/",
          "height": 271
        },
        "outputId": "97083ef7-75a9-4dde-baed-66f6536f1e78"
      },
      "cell_type": "code",
      "source": [
        "PATH = \"dataset/train/\"\n",
        "c_f = os.listdir(PATH)\n",
        "\n",
        "r_img = []\n",
        "r = []\n",
        "for i in c_f:\n",
        "    images = len(os.listdir(PATH + i))\n",
        "    r = random.sample(range(1, images), math.floor(images * .1))\n",
        "    r_img.append(r)\n",
        "    \n",
        "valid = 'dataset/valid/'\n",
        "subfolder_names = []\n",
        "for subfolder_name in c_f:\n",
        "    if not os.path.exists(valid + subfolder_name):\n",
        "        os.makedirs(os.path.join(valid, subfolder_name))\n",
        "print(os.listdir())\n",
        "print(os.listdir(valid))\n",
        "\n",
        "f_set = []\n",
        "for i, j in zip(c_f, r_img):\n",
        "    files = os.listdir(PATH + i)\n",
        "    temp = []\n",
        "    for k in j:\n",
        "        temp.append(files[k])\n",
        "    f_set.append(temp)\n",
        "\n",
        "for i, p in zip(f_set, c_f):\n",
        "    for j in i:\n",
        "        shutil.move(PATH + str(p) +'/' + str(j), valid + str(p) +'/')\n",
        "    print('moving...' + PATH + str(p) +'/' + ' to ' + valid + str(p) +'/')\n",
        "#         print(train + str(p) +'/' + str(j))\n",
        "#         print(valid + str(p) +'/')\n",
        "#         print(j, p)"
      ],
      "execution_count": 2,
      "outputs": [
        {
          "output_type": "stream",
          "text": [
            "['datalab', 'weights', '.rnd', 'weights.tgz', 'train.zip', '.config', '.forever', '.ipython', 'test.zip', '.local', 'dataset', '.cache', 'sample_submission.csv.zip']\n",
            "['Cleavers', 'Maize', 'Small-flowered Cranesbill', 'Scentless Mayweed', 'Fat Hen', 'Charlock', 'Common wheat', 'Sugar beet', 'Loose Silky-bent', 'Black-grass', 'Shepherds Purse', 'Common Chickweed']\n",
            "moving...dataset/train/Cleavers/ to dataset/valid/Cleavers/\n",
            "moving...dataset/train/Maize/ to dataset/valid/Maize/\n",
            "moving...dataset/train/Small-flowered Cranesbill/ to dataset/valid/Small-flowered Cranesbill/\n",
            "moving...dataset/train/Scentless Mayweed/ to dataset/valid/Scentless Mayweed/\n",
            "moving...dataset/train/Fat Hen/ to dataset/valid/Fat Hen/\n",
            "moving...dataset/train/Charlock/ to dataset/valid/Charlock/\n",
            "moving...dataset/train/Common wheat/ to dataset/valid/Common wheat/\n",
            "moving...dataset/train/Sugar beet/ to dataset/valid/Sugar beet/\n",
            "moving...dataset/train/Loose Silky-bent/ to dataset/valid/Loose Silky-bent/\n",
            "moving...dataset/train/Black-grass/ to dataset/valid/Black-grass/\n",
            "moving...dataset/train/Shepherds Purse/ to dataset/valid/Shepherds Purse/\n",
            "moving...dataset/train/Common Chickweed/ to dataset/valid/Common Chickweed/\n"
          ],
          "name": "stdout"
        }
      ]
    },
    {
      "metadata": {
        "id": "uIqKEsenZh5u",
        "colab_type": "code",
        "colab": {
          "base_uri": "https://localhost:8080/",
          "height": 168
        },
        "outputId": "3fed1ad6-9668-4862-9306-5995fecf2e1c"
      },
      "cell_type": "code",
      "source": [
        "!ls -la dataset/"
      ],
      "execution_count": 0,
      "outputs": [
        {
          "output_type": "stream",
          "text": [
            "total 920\r\n",
            "drwxrwxr-x  7 root root   4096 Apr 20 15:31 .\r\n",
            "drwxr-xr-x  1 root root   4096 Apr 20 15:58 ..\r\n",
            "drwxr-xr-x  2 root root   4096 Apr 20 15:31 models\r\n",
            "-rw-rw-r--  1 root root    262 Apr 14 12:39 sample_submissioin.csv\r\n",
            "drwxrwxr-x  2 root root 909312 Apr 13 22:58 test\r\n",
            "drwxr-xr-x 14 root root   4096 Apr 20 15:38 tmp\r\n",
            "drwxrwxr-x 17 root root   4096 Apr 13 23:06 train\r\n",
            "drwxr-xr-x 17 root root   4096 Apr 20 15:29 valid\r\n"
          ],
          "name": "stdout"
        }
      ]
    },
    {
      "metadata": {
        "id": "JwZLz7dXjPK_",
        "colab_type": "code",
        "colab": {}
      },
      "cell_type": "code",
      "source": [
        "from fastai.imports import *\n",
        "\n",
        "from fastai.transforms import *\n",
        "from fastai.conv_learner import *\n",
        "from fastai.model import *\n",
        "from fastai.dataset import *\n",
        "from fastai.sgdr import *\n",
        "from fastai.plots import *"
      ],
      "execution_count": 0,
      "outputs": []
    },
    {
      "metadata": {
        "id": "e-Mukq0Id1s7",
        "colab_type": "text"
      },
      "cell_type": "markdown",
      "source": [
        "# **Resnet34**"
      ]
    },
    {
      "metadata": {
        "id": "t4FlJ6psjp3D",
        "colab_type": "code",
        "colab": {}
      },
      "cell_type": "code",
      "source": [
        "PATH = 'dataset/'\n",
        "sz=150\n",
        "arch=resnet34\n",
        "# bs=12"
      ],
      "execution_count": 0,
      "outputs": []
    },
    {
      "metadata": {
        "id": "pm-e4gpbkQNJ",
        "colab_type": "code",
        "colab": {
          "base_uri": "https://localhost:8080/",
          "height": 51
        },
        "outputId": "92a76433-bdc1-44e6-d535-9eedfcd2e312"
      },
      "cell_type": "code",
      "source": [
        "print(torch.cuda.is_available())\n",
        "print(torch.backends.cudnn.enabled)"
      ],
      "execution_count": 5,
      "outputs": [
        {
          "output_type": "stream",
          "text": [
            "True\n",
            "True\n"
          ],
          "name": "stdout"
        }
      ]
    },
    {
      "metadata": {
        "id": "Tkn7Tfsj2Nvo",
        "colab_type": "code",
        "colab": {}
      },
      "cell_type": "code",
      "source": [
        "data = ImageClassifierData.from_paths(PATH, tfms=tfms_from_model(arch, sz), test_name='test')\n",
        "learn = ConvLearner.pretrained(arch, data, precompute=True)\n",
        "learn.fit(0.02, 5)"
      ],
      "execution_count": 0,
      "outputs": []
    },
    {
      "metadata": {
        "id": "eqAQzuP5YiK4",
        "colab_type": "code",
        "colab": {}
      },
      "cell_type": "code",
      "source": [
        "tfms = tfms_from_model(arch, \n",
        "                       sz, \n",
        "                       aug_tfms=transforms_side_on)"
      ],
      "execution_count": 0,
      "outputs": []
    },
    {
      "metadata": {
        "id": "02DVEQjKc9oe",
        "colab_type": "code",
        "colab": {}
      },
      "cell_type": "code",
      "source": [
        "data = ImageClassifierData.from_paths(PATH, tfms=tfms, test_name='test')\n",
        "learn = ConvLearner.pretrained(arch, data, precompute=True, ps=0.5)\n",
        "# learn.fit(1e-2, 10)"
      ],
      "execution_count": 0,
      "outputs": []
    },
    {
      "metadata": {
        "id": "I6YE9igDdDYy",
        "colab_type": "code",
        "colab": {
          "base_uri": "https://localhost:8080/",
          "height": 134
        },
        "outputId": "9cb94f1c-c684-4e7d-abad-526a6ad6ac49"
      },
      "cell_type": "code",
      "source": [
        "learn.fit(1e-2, 5)"
      ],
      "execution_count": 0,
      "outputs": [
        {
          "output_type": "display_data",
          "data": {
            "application/vnd.jupyter.widget-view+json": {
              "model_id": "55a102760117425b87548ad16e122a8e",
              "version_minor": 0,
              "version_major": 2
            },
            "text/plain": [
              "HBox(children=(IntProgress(value=0, description='Epoch', max=5), HTML(value='')))"
            ]
          },
          "metadata": {
            "tags": []
          }
        },
        {
          "output_type": "stream",
          "text": [
            "[0.      1.28208 1.26069 0.58549]\n"
          ],
          "name": "stdout"
        },
        {
          "output_type": "stream",
          "text": [
            "[1.      1.30529 1.253   0.59155]\n",
            "[2.      1.25399 1.25172 0.58903]\n",
            "  0%|          | 4/876 [00:00<01:28,  9.86it/s, loss=1.26]"
          ],
          "name": "stdout"
        },
        {
          "output_type": "stream",
          "text": [
            "[3.      1.25858 1.25243 0.59266]\n",
            "[4.      1.25939 1.24677 0.59362]\n",
            "\n"
          ],
          "name": "stdout"
        }
      ]
    },
    {
      "metadata": {
        "id": "K6vgZe8YdUGY",
        "colab_type": "code",
        "colab": {}
      },
      "cell_type": "code",
      "source": [
        "learn.precompute=False\n",
        "# learn.fit(1e-2, 3, cycle_len=1)"
      ],
      "execution_count": 0,
      "outputs": []
    },
    {
      "metadata": {
        "id": "quEXJgaKCg3I",
        "colab_type": "code",
        "colab": {}
      },
      "cell_type": "code",
      "source": [
        "# learn.save('224_lastlayer')\n",
        "learn.load('224_lastlayer')"
      ],
      "execution_count": 0,
      "outputs": []
    },
    {
      "metadata": {
        "id": "qaBxh9gedjuO",
        "colab_type": "code",
        "colab": {}
      },
      "cell_type": "code",
      "source": [
        "learn.unfreeze()"
      ],
      "execution_count": 0,
      "outputs": []
    },
    {
      "metadata": {
        "id": "a9He8QEKdon5",
        "colab_type": "code",
        "colab": {}
      },
      "cell_type": "code",
      "source": [
        "lr=np.array([1e-4,1e-3,1e-2])"
      ],
      "execution_count": 0,
      "outputs": []
    },
    {
      "metadata": {
        "id": "UNRvhl8XdtKd",
        "colab_type": "code",
        "colab": {
          "base_uri": "https://localhost:8080/",
          "height": 100
        },
        "outputId": "7716c198-662a-4e0e-b2c9-b72732dc5bea"
      },
      "cell_type": "code",
      "source": [
        "learn.fit(lr, 2, cycle_len=1, cycle_mult=2)"
      ],
      "execution_count": 0,
      "outputs": [
        {
          "output_type": "display_data",
          "data": {
            "application/vnd.jupyter.widget-view+json": {
              "model_id": "22f0452012844d03a72e1af22935b17f",
              "version_minor": 0,
              "version_major": 2
            },
            "text/plain": [
              "HBox(children=(IntProgress(value=0, description='Epoch', max=3), HTML(value='')))"
            ]
          },
          "metadata": {
            "tags": []
          }
        },
        {
          "output_type": "stream",
          "text": [
            "[0.      1.32497 1.22363 0.60637]\n"
          ],
          "name": "stdout"
        },
        {
          "output_type": "stream",
          "text": [
            "[1.      1.26417 1.1602  0.62899]\n",
            "[2.      1.14723 1.13825 0.63536]\n",
            "\n"
          ],
          "name": "stdout"
        }
      ]
    },
    {
      "metadata": {
        "id": "XkwjEwrGhZcN",
        "colab_type": "code",
        "colab": {}
      },
      "cell_type": "code",
      "source": [
        "learn.save('224_lastlayer')"
      ],
      "execution_count": 0,
      "outputs": []
    },
    {
      "metadata": {
        "id": "QLtAJtAs6jI0",
        "colab_type": "code",
        "colab": {}
      },
      "cell_type": "code",
      "source": [
        "learn.load('224_lastlayer')"
      ],
      "execution_count": 0,
      "outputs": []
    },
    {
      "metadata": {
        "id": "5Qx7-EKJDqI5",
        "colab_type": "text"
      },
      "cell_type": "markdown",
      "source": [
        "# Save file to local machine"
      ]
    },
    {
      "metadata": {
        "id": "d_zcCRfJwJDw",
        "colab_type": "code",
        "colab": {}
      },
      "cell_type": "code",
      "source": [
        "from google.colab import files"
      ],
      "execution_count": 0,
      "outputs": []
    },
    {
      "metadata": {
        "id": "kgzd6QGc0ukt",
        "colab_type": "code",
        "colab": {}
      },
      "cell_type": "code",
      "source": [
        "files.download('dataset/models/224_lastlayer.h5')\n",
        "\n",
        "# uploaded = files.upload() \n",
        "# then browse, select the files. It's then uploaded\n",
        "\n",
        "# uploaded is now a dict containing \"filename\" -> Content"
      ],
      "execution_count": 0,
      "outputs": []
    },
    {
      "metadata": {
        "id": "UjaCp2SaDkll",
        "colab_type": "text"
      },
      "cell_type": "markdown",
      "source": [
        "# Prediction"
      ]
    },
    {
      "metadata": {
        "id": "Ev19v5puzrrr",
        "colab_type": "code",
        "colab": {
          "base_uri": "https://localhost:8080/",
          "height": 17
        },
        "outputId": "8992a499-4b52-4169-d493-3c50f31a30a9"
      },
      "cell_type": "code",
      "source": [
        "log_preds, y = learn.TTA(is_test=True)"
      ],
      "execution_count": 0,
      "outputs": [
        {
          "output_type": "stream",
          "text": [
            ""
          ],
          "name": "stdout"
        }
      ]
    },
    {
      "metadata": {
        "id": "aAmcKcaI3Dte",
        "colab_type": "code",
        "colab": {
          "base_uri": "https://localhost:8080/",
          "height": 34
        },
        "outputId": "033bb092-e0c1-478e-8a5f-8459a30fd33c"
      },
      "cell_type": "code",
      "source": [
        "probs = np.exp(log_preds)\n",
        "preds = np.argmax(probs, axis=1)\n",
        "preds"
      ],
      "execution_count": 0,
      "outputs": [
        {
          "output_type": "execute_result",
          "data": {
            "text/plain": [
              "array([ 8,  1,  9, ..., 11,  2,  9])"
            ]
          },
          "metadata": {
            "tags": []
          },
          "execution_count": 71
        }
      ]
    },
    {
      "metadata": {
        "id": "2dccubQC3i5l",
        "colab_type": "code",
        "colab": {}
      },
      "cell_type": "code",
      "source": [
        "df = pd.DataFrame(preds)\n",
        "df.columns = ['category']"
      ],
      "execution_count": 0,
      "outputs": []
    },
    {
      "metadata": {
        "id": "XA2jhh_s3ogM",
        "colab_type": "code",
        "colab": {}
      },
      "cell_type": "code",
      "source": [
        "df.insert(0, 'image_name', [o[5:] for o in data.test_ds.fnames])"
      ],
      "execution_count": 0,
      "outputs": []
    },
    {
      "metadata": {
        "id": "IS7djKSo3oc8",
        "colab_type": "code",
        "colab": {
          "base_uri": "https://localhost:8080/",
          "height": 198
        },
        "outputId": "9f1382fa-3818-4284-c77c-f4c871baf5bc"
      },
      "cell_type": "code",
      "source": [
        "df.head()"
      ],
      "execution_count": 0,
      "outputs": [
        {
          "output_type": "execute_result",
          "data": {
            "text/html": [
              "<div>\n",
              "<style scoped>\n",
              "    .dataframe tbody tr th:only-of-type {\n",
              "        vertical-align: middle;\n",
              "    }\n",
              "\n",
              "    .dataframe tbody tr th {\n",
              "        vertical-align: top;\n",
              "    }\n",
              "\n",
              "    .dataframe thead th {\n",
              "        text-align: right;\n",
              "    }\n",
              "</style>\n",
              "<table border=\"1\" class=\"dataframe\">\n",
              "  <thead>\n",
              "    <tr style=\"text-align: right;\">\n",
              "      <th></th>\n",
              "      <th>id</th>\n",
              "      <th>category</th>\n",
              "    </tr>\n",
              "  </thead>\n",
              "  <tbody>\n",
              "    <tr>\n",
              "      <th>0</th>\n",
              "      <td>n03221540_3813_0.jpg</td>\n",
              "      <td>8</td>\n",
              "    </tr>\n",
              "    <tr>\n",
              "      <th>1</th>\n",
              "      <td>n04531873_20316_0.jpg</td>\n",
              "      <td>1</td>\n",
              "    </tr>\n",
              "    <tr>\n",
              "      <th>2</th>\n",
              "      <td>n04355511_4582_0.jpg</td>\n",
              "      <td>9</td>\n",
              "    </tr>\n",
              "    <tr>\n",
              "      <th>3</th>\n",
              "      <td>n03817647_19496_0.jpg</td>\n",
              "      <td>9</td>\n",
              "    </tr>\n",
              "    <tr>\n",
              "      <th>4</th>\n",
              "      <td>n02811719_5_0.jpg</td>\n",
              "      <td>5</td>\n",
              "    </tr>\n",
              "  </tbody>\n",
              "</table>\n",
              "</div>"
            ],
            "text/plain": [
              "                      id  category\n",
              "0   n03221540_3813_0.jpg         8\n",
              "1  n04531873_20316_0.jpg         1\n",
              "2   n04355511_4582_0.jpg         9\n",
              "3  n03817647_19496_0.jpg         9\n",
              "4      n02811719_5_0.jpg         5"
            ]
          },
          "metadata": {
            "tags": []
          },
          "execution_count": 74
        }
      ]
    },
    {
      "metadata": {
        "id": "p1zqT9QBBiTx",
        "colab_type": "code",
        "colab": {}
      },
      "cell_type": "code",
      "source": [
        "df.to_csv('./submission.csv', index=False)"
      ],
      "execution_count": 0,
      "outputs": []
    },
    {
      "metadata": {
        "id": "ny3qKQ5SyK1R",
        "colab_type": "code",
        "colab": {
          "base_uri": "https://localhost:8080/",
          "height": 334
        },
        "outputId": "ccd31839-df29-490c-b5bf-d717283fd6b5"
      },
      "cell_type": "code",
      "source": [
        "# !rm -f submission.csv\n",
        "!ls -la"
      ],
      "execution_count": 0,
      "outputs": [
        {
          "output_type": "stream",
          "text": [
            "total 2430192\r\n",
            "drwxr-xr-x 1 root root       4096 Apr 20 21:12 .\r\n",
            "drwxr-xr-x 1 root root       4096 Apr 20 15:14 ..\r\n",
            "drwx------ 4 root root       4096 Apr 20 15:20 .cache\r\n",
            "drwxr-xr-x 3 root root       4096 Apr 20 15:20 .config\r\n",
            "drwxr-xr-x 1 root root       4096 Apr 11 21:57 datalab\r\n",
            "drwxrwxr-x 7 root root       4096 Apr 20 15:31 dataset\r\n",
            "-rw-r--r-- 1 root root  646261977 Apr 14 07:27 dataset52bd6ce.zip\r\n",
            "-rw-r--r-- 1 root root  646261977 Apr 14 07:27 dataset52bd6ce.zip.1\r\n",
            "drwxr-xr-x 4 root root       4096 Apr 20 15:15 .forever\r\n",
            "drwxr-xr-x 5 root root       4096 Apr 20 15:20 .ipython\r\n",
            "drwxr-xr-x 2 root root       4096 Apr 20 15:34 .jupyter\r\n",
            "drwx------ 3 root root       4096 Apr 20 15:15 .local\r\n",
            "drwx------ 3 root root       4096 Apr 20 15:31 .nv\r\n",
            "-rw------- 1 root root       1024 Apr 20 15:15 .rnd\r\n",
            "-rw-r--r-- 1 root root     498167 Apr 20 21:12 submission.csv\r\n",
            "drwxr-xr-x 3 root root       4096 Apr 20 15:31 .torch\r\n",
            "drwxrwxr-x 2 1001 1001       4096 Nov  4 13:00 weights\r\n",
            "-rw-r--r-- 1 root root 1195411318 Apr 20 15:57 weights.tgz\r\n"
          ],
          "name": "stdout"
        }
      ]
    },
    {
      "metadata": {
        "id": "i2A1getUDWGG",
        "colab_type": "code",
        "colab": {}
      },
      "cell_type": "code",
      "source": [
        "files.download('submission.csv')"
      ],
      "execution_count": 0,
      "outputs": []
    },
    {
      "metadata": {
        "id": "sPK-QXCpEVPY",
        "colab_type": "code",
        "colab": {}
      },
      "cell_type": "code",
      "source": [
        ""
      ],
      "execution_count": 0,
      "outputs": []
    }
  ]
}